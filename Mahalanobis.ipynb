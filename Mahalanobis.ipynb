{
 "cells": [
  {
   "cell_type": "markdown",
   "metadata": {},
   "source": [
    "<font size=\"6px\" font color=\"blue\" face=\"Times New Roman\"><center><b>Mahalanobis Distance</b></font></center>"
   ]
  },
  {
   "cell_type": "markdown",
   "metadata": {},
   "source": [
    "--------------------------------------------------------------------------------------------------------------------------------------------------------------------------------------------------------------------------------------------------"
   ]
  },
  {
   "cell_type": "code",
   "execution_count": 14,
   "metadata": {
    "collapsed": true
   },
   "outputs": [],
   "source": [
    "################PACOTES################\n",
    "% matplotlib inline\n",
    "from sympy import *\n",
    "import numpy as np\n",
    "from numpy.linalg import inv\n",
    "import math \n",
    "from math import sqrt\n",
    "import pylab as py\n",
    "import matplotlib\n",
    "import matplotlib.pyplot as plt\n",
    "import random\n",
    "from random import shuffle\n",
    "import scipy as sp\n",
    "from scipy import misc\n",
    "from IPython.display import Latex\n",
    "#####################################"
   ]
  },
  {
   "cell_type": "markdown",
   "metadata": {},
   "source": [
    "--------------------------------------------------------------------------------------------------------------------------------------------------------------------------------------------------------------------------------------------------"
   ]
  },
  {
   "cell_type": "markdown",
   "metadata": {},
   "source": [
    "<font size=\"4px\" font color=\"black\" face=\"Times New Roman\"><b>A distância de Mahalanobis</b></font>"
   ]
  },
  {
   "cell_type": "markdown",
   "metadata": {},
   "source": [
    "A distância de Mahalanobis é também conhecida como a distância quadrática. Ela mede a separação entre dois grupos de objetos. Suponhamos que nós tenhamos dois grupos de objetos com médias $\\bar{x}_{i}$ e $\\bar{x}_{j}$, a distância de Mahalanobis é dado pelo seguinte enunciado:"
   ]
  },
  {
   "cell_type": "markdown",
   "metadata": {},
   "source": [
    "\\begin{equation}\n",
    "d_{ij}=[(\\bar{x}_{i}-\\bar{x}_{j})^{T}\\textbf{S}^{-1}(\\bar{x}_{i}-\\bar{x}_{j})]^{\\frac{1}{2}}\n",
    "\\end{equation}"
   ]
  },
  {
   "cell_type": "markdown",
   "metadata": {},
   "source": [
    "Os dados dos dois grupos devem ter o mesmo número de variáveis (o mesmo número de colunas), mas não necessariamente o mesmo número de dados (cada grupo pode possuir diferentes número de linhas)."
   ]
  },
  {
   "cell_type": "markdown",
   "metadata": {},
   "source": [
    "--------------------------------------------------------------------------------------------------------------------------------------------------------------------------------------------------------------------------------------------------"
   ]
  },
  {
   "cell_type": "code",
   "execution_count": 15,
   "metadata": {
    "collapsed": false
   },
   "outputs": [
    {
     "name": "stdout",
     "output_type": "stream",
     "text": [
      "(array([[ 2.,  2.],\n",
      "       [ 2.,  5.],\n",
      "       [ 6.,  5.],\n",
      "       [ 7.,  3.],\n",
      "       [ 4.,  7.],\n",
      "       [ 6.,  4.],\n",
      "       [ 5.,  3.],\n",
      "       [ 4.,  6.],\n",
      "       [ 2.,  5.],\n",
      "       [ 1.,  3.]]), 'Grupo I')\n",
      "(array([[ 6.,  5.],\n",
      "       [ 7.,  4.],\n",
      "       [ 8.,  7.],\n",
      "       [ 5.,  6.],\n",
      "       [ 5.,  4.]]), 'Grupo II')\n",
      "(array([ 2.,  2.,  6.,  7.,  4.,  6.,  5.,  4.,  2.,  1.]), 'x1')\n",
      "(array([ 2.,  5.,  5.,  3.,  7.,  4.,  3.,  6.,  5.,  3.]), 'y1')\n",
      "(array([ 6.,  7.,  8.,  5.,  5.]), 'x2')\n",
      "(array([ 5.,  4.,  7.,  6.,  4.]), 'y2')\n"
     ]
    }
   ],
   "source": [
    "GroupI= np.loadtxt(fname='MahalanobisI.txt', delimiter=',')\n",
    "print(GroupI, 'Grupo I' )\n",
    "GroupII=np.loadtxt(fname='MahalanobisII.txt', delimiter=',')\n",
    "print(GroupII, 'Grupo II')\n",
    "X1= GroupI[:,0]\n",
    "print(X1, 'x1')\n",
    "Y1=GroupI[:,1]\n",
    "print(Y1, 'y1')\n",
    "X2=GroupII[:,0]\n",
    "print(X2,'x2')\n",
    "Y2=GroupII[:,1]\n",
    "print(Y2,'y2')"
   ]
  },
  {
   "cell_type": "code",
   "execution_count": 16,
   "metadata": {
    "collapsed": false
   },
   "outputs": [
    {
     "data": {
      "image/png": "[encoded data removed]",
      "text/plain": [
       "<matplotlib.figure.Figure at 0x7f2d2e94c910>"
      ]
     },
     "metadata": {},
     "output_type": "display_data"
    }
   ],
   "source": [
    "plt.scatter(X1, Y1, color='blue', label='Grupo 1') # Grupo 1)\n",
    "\n",
    "plt.scatter(X2, Y2, color='red', label='Grupo 2') # Grupo 1)\n",
    "\n",
    "plt.legend(bbox_to_anchor=(1.05, 1), loc=2, borderaxespad=0.)\n",
    "\n",
    "plt.show()\n"
   ]
  },
  {
   "cell_type": "markdown",
   "metadata": {
    "collapsed": true
   },
   "source": [
    "Centralizando o dado com a média aritimética de cada variável"
   ]
  },
  {
   "cell_type": "code",
   "execution_count": 17,
   "metadata": {
    "collapsed": false
   },
   "outputs": [
    {
     "name": "stdout",
     "output_type": "stream",
     "text": [
      "(3.8999999999999999, '-> m\\xc3\\xa9dia x1')\n",
      "(4.2999999999999998, '-> m\\xc3\\xa9dia y1')\n",
      "(6.2000000000000002, '-> m\\xc3\\xa9dia x2')\n",
      "(5.2000000000000002, '-> m\\xc3\\xa9dia y2')\n"
     ]
    }
   ],
   "source": [
    "#calculando a média\n",
    "\n",
    "X1mean = np.mean(X1)\n",
    "Y1mean = np.mean(Y1)\n",
    "\n",
    "X2mean = np.mean(X2)\n",
    "Y2mean = np.mean(Y2)\n",
    "\n",
    "print(X1mean, '-> média x1')\n",
    "print(Y1mean, '-> média y1')\n",
    "print(X2mean, '-> média x2')\n",
    "print(Y2mean, '-> média y2')\n",
    "\n"
   ]
  },
  {
   "cell_type": "code",
   "execution_count": 18,
   "metadata": {
    "collapsed": false
   },
   "outputs": [
    {
     "name": "stdout",
     "output_type": "stream",
     "text": [
      "(array([-1.9, -1.9,  2.1,  3.1,  0.1,  2.1,  1.1,  0.1, -1.9, -2.9]), '->x1')\n",
      "(array([-2.3,  0.7,  0.7, -1.3,  2.7, -0.3, -1.3,  1.7,  0.7, -1.3]), '->y1')\n",
      "(array([-0.2,  0.8,  1.8, -1.2, -1.2]), '->x2')\n",
      "(array([-0.2, -1.2,  1.8,  0.8, -1.2]), '->y2')\n"
     ]
    }
   ],
   "source": [
    "#Centralizando o dado\n",
    "\n",
    "x1 = np.array(X1-X1mean)\n",
    "y1 = np.array(Y1-Y1mean)\n",
    "x2 = np.array(X2-X2mean)\n",
    "y2 = np.array(Y2-Y2mean)\n",
    "\n",
    "print(x1, '->x1')\n",
    "print(y1, '->y1')\n",
    "print(x2, '->x2')\n",
    "print(y2, '->y2')"
   ]
  },
  {
   "cell_type": "markdown",
   "metadata": {},
   "source": [
    "A matriz covariância para o grupo $i$ é calculada usando uma matriz de dados centralizada $\\hat{\\textbf{X}}$.\n"
   ]
  },
  {
   "cell_type": "markdown",
   "metadata": {},
   "source": [
    "\n",
    "\\begin{equation}\n",
    "\\textbf{C}_{i}=\\dfrac{1}{n_{i}} \\hat{\\textbf{X}}^{T}\\hat{\\textbf{X}}\n",
    "\\end{equation}"
   ]
  },
  {
   "cell_type": "code",
   "execution_count": 19,
   "metadata": {
    "collapsed": false
   },
   "outputs": [
    {
     "name": "stdout",
     "output_type": "stream",
     "text": [
      "(3.8900000000000006, '->Covariancia grupo 1, classe 1')\n",
      "(2.21, '->covariancia grupo 1, classe 2')\n",
      "(0.13000000000000006, '->covariancia grupo 1, classe 3')\n",
      "(0.13000000000000006, '->covariancia grupo 1, classe 4')\n"
     ]
    }
   ],
   "source": [
    "#Calculando a covariância para o Grupo 1 (Ela indica o quanto duas variáveis variam juntas)\n",
    "\n",
    "#transpondo o vetor x1\n",
    "x1T=x1.transpose()\n",
    "#print(x1T,'->x1 Transposta')\n",
    "#transpondo o vetor y1\n",
    "y1T=y1.transpose()\n",
    "#print(y1T,'->y1 Transposta')\n",
    "\n",
    "#Calculando a Covariância\n",
    "\n",
    "x1x1cov=np.dot(x1T,x1)/10\n",
    "print(x1x1cov,'->Covariancia grupo 1, classe 1')\n",
    "\n",
    "y1y1cov=np.dot(y1T,y1)/10\n",
    "print(y1y1cov,'->covariancia grupo 1, classe 2')\n",
    "\n",
    "x1y1cov=np.dot(x1T,y1)/10\n",
    "print(x1y1cov,'->covariancia grupo 1, classe 3')\n",
    "\n",
    "y1x1cov=np.dot(y1T,x1)/10\n",
    "print(y1x1cov,'->covariancia grupo 1, classe 4')\n"
   ]
  },
  {
   "cell_type": "code",
   "execution_count": 20,
   "metadata": {
    "collapsed": false
   },
   "outputs": [
    {
     "name": "stdout",
     "output_type": "stream",
     "text": [
      "(1.3599999999999999, '->Covariancia grupo 2, classe 1')\n",
      "(1.3599999999999999, '->covariancia grupo 2, classe 2')\n",
      "(0.55999999999999994, '->covariancia grupo 2, classe 3')\n",
      "(0.55999999999999994, '->covariancia grupo 2, classe 4')\n"
     ]
    }
   ],
   "source": [
    "#Calculando a covariância para o Grupo 2 (Ela indica o quanto duas variáveis variam juntas)\n",
    "\n",
    "#transpondo o vetor x1 \n",
    "x2T=x2.transpose()\n",
    "#print(x2T,'->x2 Transposta')\n",
    "#transpondo o vetor y1\n",
    "y2T=y2.transpose()\n",
    "#print(y2T,'->y2 Transposta')\n",
    "\n",
    "#Calculando a Covariância\n",
    "\n",
    "x2x2cov=np.dot(x2T,x2)/5\n",
    "print(x2x2cov,'->Covariancia grupo 2, classe 1')\n",
    "\n",
    "y2y2cov=np.dot(y2T,y2)/5\n",
    "print(y2y2cov,'->covariancia grupo 2, classe 2')\n",
    "\n",
    "x2y2cov=np.dot(x2T,y2)/5\n",
    "print(x2y2cov,'->covariancia grupo 2, classe 3')\n",
    "\n",
    "y2x2cov=np.dot(y2T,x2)/5\n",
    "print(y2x2cov,'->covariancia grupo 2, classe 4')"
   ]
  },
  {
   "cell_type": "markdown",
   "metadata": {},
   "source": [
    "A matriz de covariancia agrupada $\\textbf{S}$(Pooled Covariance Matrix) dos dois grupos (r,s) é computada como a média ponderada das matrizes de covariância:"
   ]
  },
  {
   "cell_type": "markdown",
   "metadata": {},
   "source": [
    "\\begin{equation}\n",
    "\\textbf{S}_{i}(r,s)=\\dfrac{1}{n}\\sum^{g}_{i=1}n_{i}c_{i}(r,s)\n",
    "\\end{equation}"
   ]
  },
  {
   "cell_type": "markdown",
   "metadata": {},
   "source": [
    "No caso desde trabalho, foi usada a média ponderada $\\frac{10}{15} C_{1} + \\frac{5}{15} C_{2}$, onde $C_{1}$ e $C_{2}$ representam os grupos $1$ e $2$ respectivamente.\n"
   ]
  },
  {
   "cell_type": "code",
   "execution_count": 65,
   "metadata": {
    "collapsed": false
   },
   "outputs": [
    {
     "name": "stdout",
     "output_type": "stream",
     "text": [
      "3.04666666667\n",
      "0.273333333333\n",
      "0.273333333333\n",
      "1.92666666667\n",
      "(matrix([[ 3.04666667,  0.27333333],\n",
      "        [ 0.27333333,  1.92666667]]), '->Matriz de covariancia agrupada')\n",
      "(matrix([[ 0.33245905, -0.04716547],\n",
      "        [-0.04716547,  0.52572244]]), '->Matriz de covari\\xc3\\xa2ncia agrupada invertida')\n"
     ]
    }
   ],
   "source": [
    "#Calculando a matriz de covariância agrupada:\n",
    "\n",
    "S11=(10./15.)*x1x1cov+(5./15.)*x2x2cov\n",
    "S12=(10./15.)*x1y1cov+(5./15.)*x2y2cov\n",
    "S21=(10./15.)*y1x1cov+(5./15.)*y2x2cov\n",
    "S22=(10./15.)*y1y1cov+(5./15.)*y2y2cov\n",
    "\n",
    "print(S11) \n",
    "print(S12)\n",
    "print(S21)\n",
    "print(S22)\n",
    "\n",
    "S=np.matrix([[S11,S12],[S21,S22]])\n",
    "\n",
    "print(S,'->Matriz de covariancia agrupada')\n",
    "\n",
    "#Calculando a inversa da matriz de covariância agrupada:\n",
    "\n",
    "INVS=inv(S)\n",
    "print(INVS,'->Matriz de covariância agrupada invertida')"
   ]
  },
  {
   "cell_type": "code",
   "execution_count": 45,
   "metadata": {
    "collapsed": false
   },
   "outputs": [
    {
     "name": "stdout",
     "output_type": "stream",
     "text": [
      "(-2.3000000000000003, '->Diferen\\xc3\\xa7a das m\\xc3\\xa9dias entre a propriedade X dos grupos 1 e 2')\n",
      "(-0.90000000000000036, '->Diferen\\xc3\\xa7a das m\\xc3\\xa9dias entre a propriedade Y dos grupos 1 e 2')\n"
     ]
    }
   ],
   "source": [
    "#Diferença das médias:\n",
    "G1=(X1mean-X2mean)\n",
    "G2=(Y1mean-Y2mean)\n",
    "print(G1,'->Diferença das médias entre a propriedade X dos grupos 1 e 2')\n",
    "print(G2,'->Diferença das médias entre a propriedade Y dos grupos 1 e 2')"
   ]
  },
  {
   "cell_type": "code",
   "execution_count": 70,
   "metadata": {
    "collapsed": false
   },
   "outputs": [
    {
     "ename": "TypeError",
     "evalue": "only length-1 arrays can be converted to Python scalars",
     "output_type": "error",
     "traceback": [
      "\u001b[0;31m---------------------------------------------------------------------------\u001b[0m",
      "\u001b[0;31mTypeError\u001b[0m                                 Traceback (most recent call last)",
      "\u001b[0;32m<ipython-input-70-367824d5f1c6>\u001b[0m in \u001b[0;36m<module>\u001b[0;34m()\u001b[0m\n\u001b[1;32m      1\u001b[0m \u001b[0;31m#Cálculo da distância de Mahalanobis:\u001b[0m\u001b[0;34m\u001b[0m\u001b[0;34m\u001b[0m\u001b[0m\n\u001b[1;32m      2\u001b[0m \u001b[0;31m#Mahala=sqrt((G1-G2).transpose()*(G1-G2))\u001b[0m\u001b[0;34m\u001b[0m\u001b[0;34m\u001b[0m\u001b[0m\n\u001b[0;32m----> 3\u001b[0;31m \u001b[0mMahala\u001b[0m\u001b[0;34m=\u001b[0m\u001b[0msqrt\u001b[0m\u001b[0;34m(\u001b[0m\u001b[0mnp\u001b[0m\u001b[0;34m.\u001b[0m\u001b[0mdot\u001b[0m\u001b[0;34m(\u001b[0m\u001b[0;34m(\u001b[0m\u001b[0mG1\u001b[0m\u001b[0;34m-\u001b[0m\u001b[0mG2\u001b[0m\u001b[0;34m)\u001b[0m\u001b[0;34m.\u001b[0m\u001b[0mtranspose\u001b[0m\u001b[0;34m(\u001b[0m\u001b[0;34m)\u001b[0m\u001b[0;34m,\u001b[0m\u001b[0mINVS\u001b[0m\u001b[0;34m)\u001b[0m\u001b[0;34m*\u001b[0m\u001b[0;34m(\u001b[0m\u001b[0mG1\u001b[0m\u001b[0;34m-\u001b[0m\u001b[0mG2\u001b[0m\u001b[0;34m)\u001b[0m\u001b[0;34m)\u001b[0m\u001b[0;34m\u001b[0m\u001b[0m\n\u001b[0m\u001b[1;32m      4\u001b[0m \u001b[0;32mprint\u001b[0m\u001b[0;34m(\u001b[0m\u001b[0mMahala\u001b[0m\u001b[0;34m)\u001b[0m\u001b[0;31m#falta colocar o S-1 na equação\u001b[0m\u001b[0;34m\u001b[0m\u001b[0m\n",
      "\u001b[0;31mTypeError\u001b[0m: only length-1 arrays can be converted to Python scalars"
     ]
    }
   ],
   "source": [
    "#Cálculo da distância de Mahalanobis:\n",
    "#Mahala=sqrt((G1-G2).transpose()*(G1-G2))\n",
    "Mahala=sqrt(np.dot((G1-G2).transpose(),INVS)*(G1-G2))\n",
    "print(Mahala)#falta colocar o S-1 na equação"
   ]
  },
  {
   "cell_type": "markdown",
   "metadata": {
    "collapsed": true
   },
   "source": [
    "---------------------------------------------------------------------------------------------------------------------------------------------------------------------------------------------------------------------------------------------------------------------------------------------------------------------------------------"
   ]
  },
  {
   "cell_type": "markdown",
   "metadata": {},
   "source": [
    "Referências:\n",
    "- http://people.revoledu.com/kardi/tutorial/Similarity/MahalanobisDistance.html (acesso em 30/03/2017)"
   ]
  },
  {
   "cell_type": "code",
   "execution_count": null,
   "metadata": {
    "collapsed": true
   },
   "outputs": [],
   "source": []
  },
  {
   "cell_type": "code",
   "execution_count": null,
   "metadata": {
    "collapsed": true
   },
   "outputs": [],
   "source": []
  }
 ],
 "metadata": {
  "anaconda-cloud": {},
  "kernelspec": {
   "display_name": "Python 2",
   "language": "python",
   "name": "python2"
  },
  "language_info": {
   "codemirror_mode": {
    "name": "ipython",
    "version": 2
   },
   "file_extension": ".py",
   "mimetype": "text/x-python",
   "name": "python",
   "nbconvert_exporter": "python",
   "pygments_lexer": "ipython2",
   "version": "2.7.13"
  }
 },
 "nbformat": 4,
 "nbformat_minor": 0
}
