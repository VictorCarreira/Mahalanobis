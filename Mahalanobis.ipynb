{
 "cells": [
  {
   "cell_type": "markdown",
   "metadata": {},
   "source": [
    "<font size=\"6px\" font color=\"blue\" face=\"Times New Roman\"><b>Mahalanobis Distance</b></font>"
   ]
  },
  {
   "cell_type": "markdown",
   "metadata": {},
   "source": [
    "--------------------------------------------------------------------------------------------------------------------------------------------------------------------------------------------------------------------------------------------------"
   ]
  },
  {
   "cell_type": "code",
   "execution_count": 65,
   "metadata": {
    "collapsed": true
   },
   "outputs": [],
   "source": [
    "####################################################PACOTES#########################################################\n",
    "#----------------------------------\n",
    "% matplotlib inline\n",
    "import numpy as np\n",
    "import pylab as py\n",
    "import matplotlib\n",
    "import matplotlib.pyplot as plt\n",
    "import random\n",
    "from random import shuffle\n",
    "import scipy as sp\n",
    "from scipy import misc\n",
    "#from IPython.display import Latex\n",
    "#----------------------------------"
   ]
  },
  {
   "cell_type": "markdown",
   "metadata": {},
   "source": [
    "--------------------------------------------------------------------------------------------------------------------------------------------------------------------------------------------------------------------------------------------------"
   ]
  },
  {
   "cell_type": "markdown",
   "metadata": {},
   "source": [
    "<font size=\"4px\" font color=\"black\" face=\"Times New Roman\"><b>A distância de Mahalanobis</b></font>"
   ]
  },
  {
   "cell_type": "markdown",
   "metadata": {},
   "source": [
    "A distância de Mahalanobis é também conhecida como a distância quadrática. Ela mede a separação entre dois grupos de objetos. Suponhamos que nós tenhamos dois grupos de objetos com médias $\\bar{x}_{i}$ e $\\bar{x}_{j}$, a distância de Mahalanobis é dado pelo seguinte enunciado:"
   ]
  },
  {
   "cell_type": "markdown",
   "metadata": {},
   "source": [
    "\\begin{equation}\n",
    "d_{ij}=[(\\bar{x}_{i}-\\bar{x}_{j})^{T}\\textbf{S}^{-1}(\\bar{x}_{i}-\\bar{x}_{j})]^{\\frac{1}{2}}\n",
    "\\end{equation}"
   ]
  },
  {
   "cell_type": "markdown",
   "metadata": {},
   "source": [
    "Os dados dos dois grupos devem ter o mesmo número de variáveis (o mesmo número de colunas), mas não necessariamente o mesmo número de dados (cada grupo pode possuir diferentes número de linhas)."
   ]
  },
  {
   "cell_type": "markdown",
   "metadata": {},
   "source": [
    "--------------------------------------------------------------------------------------------------------------------------------------------------------------------------------------------------------------------------------------------------"
   ]
  },
  {
   "cell_type": "code",
   "execution_count": 71,
   "metadata": {
    "collapsed": false
   },
   "outputs": [
    {
     "name": "stdout",
     "output_type": "stream",
     "text": [
      "[[ 2.  2.]\n",
      " [ 2.  5.]\n",
      " [ 6.  5.]\n",
      " [ 7.  3.]\n",
      " [ 4.  7.]\n",
      " [ 6.  4.]\n",
      " [ 5.  3.]\n",
      " [ 4.  6.]\n",
      " [ 2.  5.]\n",
      " [ 1.  3.]] Grupo I\n",
      "[[ 6.  5.]\n",
      " [ 7.  4.]\n",
      " [ 8.  7.]\n",
      " [ 5.  6.]\n",
      " [ 5.  4.]] Grupo II\n",
      "[ 2.  2.  6.  7.  4.  6.  5.  4.  2.  1.] x1\n",
      "[ 2.  5.  5.  3.  7.  4.  3.  6.  5.  3.] y1\n",
      "[ 6.  7.  8.  5.  5.] x2\n",
      "[ 5.  4.  7.  6.  4.] y2\n"
     ]
    }
   ],
   "source": [
    "GroupI= np.loadtxt(fname='MahalanobisI.txt', delimiter=',')\n",
    "print(GroupI, 'Grupo I' )\n",
    "GroupII=np.loadtxt(fname='MahalanobisII.txt', delimiter=',')\n",
    "print(GroupII, 'Grupo II')\n",
    "X1= GroupI[:,0]\n",
    "print(X1, 'x1')\n",
    "Y1=GroupI[:,1]\n",
    "print(Y1, 'y1')\n",
    "X2=GroupII[:,0]\n",
    "print(X2,'x2')\n",
    "Y2=GroupII[:,1]\n",
    "print(Y2,'y2')"
   ]
  },
  {
   "cell_type": "code",
   "execution_count": 72,
   "metadata": {
    "collapsed": false
   },
   "outputs": [
    {
     "data": {
      "image/png": "[encoded data removed]",
      "text/plain": [
       "<matplotlib.figure.Figure at 0x7f7c35065f28>"
      ]
     },
     "metadata": {},
     "output_type": "display_data"
    }
   ],
   "source": [
    "plt.scatter(X1, Y1, color='blue', label='Grupo 1') # Grupo 1)\n",
    "\n",
    "plt.scatter(X2, Y2, color='red', label='Grupo 2') # Grupo 1)\n",
    "\n",
    "plt.legend(bbox_to_anchor=(1.05, 1), loc=2, borderaxespad=0.)\n",
    "\n",
    "plt.show()\n"
   ]
  },
  {
   "cell_type": "markdown",
   "metadata": {
    "collapsed": true
   },
   "source": [
    "Centralizando o dado com a média aritimética de cada variável"
   ]
  },
  {
   "cell_type": "code",
   "execution_count": 73,
   "metadata": {
    "collapsed": false
   },
   "outputs": [
    {
     "name": "stdout",
     "output_type": "stream",
     "text": [
      "3.9 -> média x1\n",
      "4.3 -> média y1\n",
      "6.2 -> média x2\n",
      "5.2 -> média y2\n"
     ]
    }
   ],
   "source": [
    "#calculando a média\n",
    "\n",
    "X1mean = np.mean(X1)\n",
    "Y1mean = np.mean(Y1)\n",
    "\n",
    "X2mean = np.mean(X2)\n",
    "Y2mean = np.mean(Y2)\n",
    "\n",
    "print(X1mean, '-> média x1')\n",
    "print(Y1mean, '-> média y1')\n",
    "print(X2mean, '-> média x2')\n",
    "print(Y2mean, '-> média y2')\n",
    "\n"
   ]
  },
  {
   "cell_type": "code",
   "execution_count": 89,
   "metadata": {
    "collapsed": false
   },
   "outputs": [
    {
     "name": "stdout",
     "output_type": "stream",
     "text": [
      "[-1.9 -1.9  2.1  3.1  0.1  2.1  1.1  0.1 -1.9 -2.9] ->x1\n",
      "[-2.3  0.7  0.7 -1.3  2.7 -0.3 -1.3  1.7  0.7 -1.3] ->y1\n",
      "[-0.2  0.8  1.8 -1.2 -1.2] ->x2\n",
      "[-0.2 -1.2  1.8  0.8 -1.2] ->y2\n"
     ]
    }
   ],
   "source": [
    "#Centralizando o dado\n",
    "\n",
    "x1 = np.array(X1-X1mean)\n",
    "y1 = np.array(Y1-Y1mean)\n",
    "x2 = np.array(X2-X2mean)\n",
    "y2 = np.array(Y2-Y2mean)\n",
    "\n",
    "print(x1, '->x1')\n",
    "print(y1, '->y1')\n",
    "print(x2, '->x2')\n",
    "print(y2, '->y2')"
   ]
  },
  {
   "cell_type": "markdown",
   "metadata": {},
   "source": [
    "A matriz covariância para o grupo $i$ é calculada usando uma matriz de dados centralizada $\\hat{\\textbf{X}}$.\n"
   ]
  },
  {
   "cell_type": "markdown",
   "metadata": {},
   "source": [
    "\n",
    "\\begin{equation}\n",
    "\\textbf{C}_{i}=\\dfrac{1}{n_{i}} \\hat{\\textbf{X}}^{T}\\hat{\\textbf{X}}\n",
    "\\end{equation}"
   ]
  },
  {
   "cell_type": "code",
   "execution_count": 112,
   "metadata": {
    "collapsed": false
   },
   "outputs": [
    {
     "name": "stdout",
     "output_type": "stream",
     "text": [
      "[-1.9 -1.9  2.1  3.1  0.1  2.1  1.1  0.1 -1.9 -2.9] ->x1 Transposta\n",
      "[[ 0.21611111  0.21611111]\n",
      " [ 0.21611111  0.21611111]]\n"
     ]
    }
   ],
   "source": [
    "#Calculando a covariância (Ela indica o quanto duas variáveis variam juntas)\n",
    "#transpondo a matriz x1\n",
    "x1T=x1.transpose()\n",
    "print(x1T,'->x1 Transposta')\n",
    "x1cov=np.cov(x1T,x1)/20\n",
    "print(x1cov)"
   ]
  },
  {
   "cell_type": "code",
   "execution_count": null,
   "metadata": {
    "collapsed": true
   },
   "outputs": [],
   "source": []
  }
 ],
 "metadata": {
  "kernelspec": {
   "display_name": "Python 3",
   "language": "python",
   "name": "python3"
  },
  "language_info": {
   "codemirror_mode": {
    "name": "ipython",
    "version": 3
   },
   "file_extension": ".py",
   "mimetype": "text/x-python",
   "name": "python",
   "nbconvert_exporter": "python",
   "pygments_lexer": "ipython3",
   "version": "3.5.1"
  }
 },
 "nbformat": 4,
 "nbformat_minor": 0
}
